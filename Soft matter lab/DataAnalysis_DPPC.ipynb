{
 "cells": [
  {
   "cell_type": "code",
   "execution_count": null,
   "metadata": {},
   "outputs": [
    {
     "ename": "",
     "evalue": "",
     "output_type": "error",
     "traceback": [
      "\u001b[1;31mFailed to start the Kernel. \n",
      "\u001b[1;31mKernel Python 3.9.6 is not usable. Check the Jupyter output tab for more information. \n",
      "\u001b[1;31mView Jupyter <a href='command:jupyter.viewOutput'>log</a> for further details."
     ]
    }
   ],
   "source": [
    "import numpy as np\n",
    "import matplotlib.pyplot as plt"
   ]
  },
  {
   "cell_type": "code",
   "execution_count": null,
   "metadata": {},
   "outputs": [
    {
     "ename": "",
     "evalue": "",
     "output_type": "error",
     "traceback": [
      "\u001b[1;31mFailed to start the Kernel. \n",
      "\u001b[1;31mKernel Python 3.9.6 is not usable. Check the Jupyter output tab for more information. \n",
      "\u001b[1;31mView Jupyter <a href='command:jupyter.viewOutput'>log</a> for further details."
     ]
    }
   ],
   "source": [
    "temperature_3646 = np.array([35.996,\n",
    "36.254,\n",
    "36.504,\n",
    "36.754,\n",
    "37.004,\n",
    "37.254,\n",
    "37.504,\n",
    "37.754,\n",
    "38.004,\n",
    "38.254,\n",
    "38.504,\n",
    "38.754,\n",
    "39.004,\n",
    "39.254,\n",
    "39.504,\n",
    "39.755,\n",
    "40.004,\n",
    "40.254,\n",
    "40.503,\n",
    "40.754,\n",
    "41.004,\n",
    "41.254,\n",
    "41.504,\n",
    "41.754,\n",
    "42.004,\n",
    "42.254,\n",
    "42.504,\n",
    "42.754,\n",
    "43.004,\n",
    "43.254,\n",
    "43.504,\n",
    "43.754,\n",
    "44.004,\n",
    "44.254,\n",
    "44.503,\n",
    "44.754,\n",
    "45.004,\n",
    "45.254,\n",
    "45.504,\n",
    "45.754,\n",
    "46.003])"
   ]
  },
  {
   "cell_type": "code",
   "execution_count": null,
   "metadata": {},
   "outputs": [],
   "source": [
    "density"
   ]
  }
 ],
 "metadata": {
  "kernelspec": {
   "display_name": "Python 3",
   "language": "python",
   "name": "python3"
  },
  "language_info": {
   "name": "python",
   "version": "3.9.6 (default, Oct 18 2022, 12:41:40) \n[Clang 14.0.0 (clang-1400.0.29.202)]"
  },
  "orig_nbformat": 4,
  "vscode": {
   "interpreter": {
    "hash": "31f2aee4e71d21fbe5cf8b01ff0e069b9275f58929596ceb00d14d90e3e16cd6"
   }
  }
 },
 "nbformat": 4,
 "nbformat_minor": 2
}
